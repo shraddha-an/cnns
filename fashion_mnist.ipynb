{
  "nbformat": 4,
  "nbformat_minor": 0,
  "metadata": {
    "colab": {
      "name": "fashion_mnist.ipynb",
      "provenance": [],
      "collapsed_sections": [],
      "authorship_tag": "ABX9TyN+sebXRJYst5ym5paLuHna",
      "include_colab_link": true
    },
    "kernelspec": {
      "name": "python3",
      "display_name": "Python 3"
    }
  },
  "cells": [
    {
      "cell_type": "markdown",
      "metadata": {
        "id": "view-in-github",
        "colab_type": "text"
      },
      "source": [
        "<a href=\"https://colab.research.google.com/github/shraddha-an/cnns/blob/master/fashion_mnist.ipynb\" target=\"_parent\"><img src=\"https://colab.research.google.com/assets/colab-badge.svg\" alt=\"Open In Colab\"/></a>"
      ]
    },
    {
      "cell_type": "markdown",
      "metadata": {
        "id": "1Kt92yMfcgn6",
        "colab_type": "text"
      },
      "source": [
        "CNN for Classification of Fashion MNIST\n"
      ]
    },
    {
      "cell_type": "code",
      "metadata": {
        "id": "5xVLPbVkXSd2",
        "colab_type": "code",
        "colab": {
          "base_uri": "https://localhost:8080/",
          "height": 241
        },
        "outputId": "b575e239-c67e-49a3-d445-9632f34184a2"
      },
      "source": [
        "# Importing libraries\n",
        "import matplotlib.pyplot as plt, seaborn as sb\n",
        "from keras.datasets import fashion_mnist\n",
        "\n",
        "# Importing the dataset from Keras API\n",
        "(X_train, y_train), (X_test, y_test) = fashion_mnist.load_data()\n",
        "\n",
        "# Shape of the dataset\n",
        "print(\"Shape of training set: \", X_train.shape, y_train.shape)\n",
        "print(\"Shape of test set: \", X_test.shape, y_test.shape)\n"
      ],
      "execution_count": 1,
      "outputs": [
        {
          "output_type": "stream",
          "text": [
            "/usr/local/lib/python3.6/dist-packages/statsmodels/tools/_testing.py:19: FutureWarning: pandas.util.testing is deprecated. Use the functions in the public API at pandas.testing instead.\n",
            "  import pandas.util.testing as tm\n"
          ],
          "name": "stderr"
        },
        {
          "output_type": "stream",
          "text": [
            "Downloading data from https://storage.googleapis.com/tensorflow/tf-keras-datasets/train-labels-idx1-ubyte.gz\n",
            "32768/29515 [=================================] - 0s 0us/step\n",
            "Downloading data from https://storage.googleapis.com/tensorflow/tf-keras-datasets/train-images-idx3-ubyte.gz\n",
            "26427392/26421880 [==============================] - 0s 0us/step\n",
            "Downloading data from https://storage.googleapis.com/tensorflow/tf-keras-datasets/t10k-labels-idx1-ubyte.gz\n",
            "8192/5148 [===============================================] - 0s 0us/step\n",
            "Downloading data from https://storage.googleapis.com/tensorflow/tf-keras-datasets/t10k-images-idx3-ubyte.gz\n",
            "4423680/4422102 [==============================] - 0s 0us/step\n",
            "Shape of training set:  (60000, 28, 28) (60000,)\n",
            "Shape of test set:  (10000, 28, 28) (10000,)\n"
          ],
          "name": "stdout"
        }
      ]
    },
    {
      "cell_type": "markdown",
      "metadata": {
        "id": "2Q6HBT0PLreF",
        "colab_type": "text"
      },
      "source": [
        "One Hot Encoding the 10 Fashion labels"
      ]
    },
    {
      "cell_type": "code",
      "metadata": {
        "id": "Q2tf5WXbcryJ",
        "colab_type": "code",
        "colab": {}
      },
      "source": [
        "# OHE the labels\n",
        "from keras.utils import to_categorical\n",
        "\n",
        "y_train = to_categorical(y_train)\n",
        "y_test = to_categorical(y_test)\n",
        "\n",
        "# Scaling the pixels to the range 0-1\n",
        "X_train, X_test = X_train.astype(float), X_test.astype(float)\n",
        "X_train, X_test = X_train/ 255, X_test / 255\n",
        "\n",
        "print(X_train[0,:], X_test[0,:])"
      ],
      "execution_count": null,
      "outputs": []
    },
    {
      "cell_type": "markdown",
      "metadata": {
        "id": "sM-ch7NLrOTJ",
        "colab_type": "text"
      },
      "source": [
        "Reshaping the array to the 4D format that Keras expects: (samples, height, width, channels)"
      ]
    },
    {
      "cell_type": "code",
      "metadata": {
        "id": "TMtGzHGVO-4-",
        "colab_type": "code",
        "colab": {
          "base_uri": "https://localhost:8080/",
          "height": 68
        },
        "outputId": "3a495a02-d23a-45b0-b483-598ea8ec0f3d"
      },
      "source": [
        "print('\\nTraining shape: ', X_train.shape, '\\nTest shape: ', X_test.shape)\n",
        "\n",
        "# Reshaping X_train & X_test to 3D (28, 28, 1)\n",
        "#X_train, X_test = X_train.reshape(-1, 28, 28, 1), X_test.reshape(-1, 28, 28, 1)"
      ],
      "execution_count": 5,
      "outputs": [
        {
          "output_type": "stream",
          "text": [
            "\n",
            "Training shape:  (60000, 28, 28, 1) \n",
            "Test shape:  (10000, 28, 28, 1)\n"
          ],
          "name": "stdout"
        }
      ]
    },
    {
      "cell_type": "markdown",
      "metadata": {
        "id": "SjGhGVGELxxn",
        "colab_type": "text"
      },
      "source": [
        "Building the CNN"
      ]
    },
    {
      "cell_type": "code",
      "metadata": {
        "id": "bewXVzs0LxUy",
        "colab_type": "code",
        "colab": {
          "base_uri": "https://localhost:8080/",
          "height": 357
        },
        "outputId": "5ea9b4df-98cd-4faa-92df-7c3261cdac30"
      },
      "source": [
        "from keras.models import Sequential\n",
        "from keras.layers import Conv2D, MaxPooling2D, Flatten, Dense, Dropout, BatchNormalization\n",
        "from keras.optimizers import SGD\n",
        "\n",
        "model = Sequential()\n",
        "\n",
        "model.add(Conv2D(32, (3, 3), activation = 'relu', kernel_initializer = 'he_uniform', padding = 'same', input_shape = (28, 28, 1)))\n",
        "model.add(BatchNormalization())\n",
        "\n",
        "model.add(Conv2D(32, (3, 3), activation = 'relu', kernel_initializer = 'he_uniform', padding = 'same'))\n",
        "model.add(BatchNormalization())\n",
        "model.add(MaxPooling2D((2, 2)))\n",
        "model.add(Dropout(0.2))\n",
        " \n",
        "model.add(Conv2D(64, (3, 3), activation = 'relu', kernel_initializer = 'he_uniform', padding = 'same'))\n",
        "model.add(BatchNormalization())\n",
        "model.add(Conv2D(64, (3, 3), activation = 'relu', kernel_initializer = 'he_uniform', padding = 'same'))\n",
        "model.add(BatchNormalization())\n",
        "model.add(MaxPooling2D((2, 2)))\n",
        "model.add(Dropout(0.3))\n",
        "\t\n",
        "model.add(Conv2D(128, (3, 3), activation = 'relu', kernel_initializer = 'he_uniform', padding = 'same'))\n",
        "model.add(BatchNormalization())\n",
        "model.add(Conv2D(128, (3, 3), activation = 'relu', kernel_initializer = 'he_uniform', padding = 'same'))\n",
        "model.add(BatchNormalization())\n",
        "model.add(MaxPooling2D((2, 2)))\n",
        "model.add(Dropout(0.4))\n",
        "\n",
        "model.add(Flatten())\n",
        "model.add(Dense(128, activation = 'relu', kernel_initializer = 'he_uniform'))\n",
        "model.add(BatchNormalization())\n",
        "model.add(Dropout(0.5))\n",
        "model.add(Dense(10, activation = 'softmax'))\n",
        "\n",
        "# compile model\n",
        "opt = SGD(lr = 0.001, momentum = 0.9)\n",
        "model.compile(optimizer = 'adam', loss = 'categorical_crossentropy', metrics = ['accuracy'])\n",
        "\n",
        "history = model.fit(X_train, y_train, batch_size = 64, epochs = 10,\n",
        "                    validation_data = (X_test, y_test), verbose = 1)\n"
      ],
      "execution_count": 6,
      "outputs": [
        {
          "output_type": "stream",
          "text": [
            "Epoch 1/10\n",
            "938/938 [==============================] - 385s 411ms/step - loss: 0.5935 - accuracy: 0.7925 - val_loss: 0.3265 - val_accuracy: 0.8843\n",
            "Epoch 2/10\n",
            "938/938 [==============================] - 391s 416ms/step - loss: 0.3433 - accuracy: 0.8790 - val_loss: 0.2835 - val_accuracy: 0.8994\n",
            "Epoch 3/10\n",
            "938/938 [==============================] - 398s 424ms/step - loss: 0.2901 - accuracy: 0.8982 - val_loss: 0.2329 - val_accuracy: 0.9164\n",
            "Epoch 4/10\n",
            "938/938 [==============================] - 398s 424ms/step - loss: 0.2629 - accuracy: 0.9074 - val_loss: 0.2528 - val_accuracy: 0.9091\n",
            "Epoch 5/10\n",
            "938/938 [==============================] - 392s 418ms/step - loss: 0.2440 - accuracy: 0.9136 - val_loss: 0.2208 - val_accuracy: 0.9227\n",
            "Epoch 6/10\n",
            "938/938 [==============================] - 396s 422ms/step - loss: 0.2265 - accuracy: 0.9183 - val_loss: 0.2191 - val_accuracy: 0.9199\n",
            "Epoch 7/10\n",
            "938/938 [==============================] - 393s 419ms/step - loss: 0.2177 - accuracy: 0.9227 - val_loss: 0.2204 - val_accuracy: 0.9212\n",
            "Epoch 8/10\n",
            "938/938 [==============================] - 393s 419ms/step - loss: 0.2039 - accuracy: 0.9268 - val_loss: 0.2055 - val_accuracy: 0.9244\n",
            "Epoch 9/10\n",
            "938/938 [==============================] - 391s 417ms/step - loss: 0.1935 - accuracy: 0.9306 - val_loss: 0.1992 - val_accuracy: 0.9276\n",
            "Epoch 10/10\n",
            "938/938 [==============================] - 393s 419ms/step - loss: 0.1874 - accuracy: 0.9329 - val_loss: 0.1997 - val_accuracy: 0.9289\n"
          ],
          "name": "stdout"
        }
      ]
    },
    {
      "cell_type": "markdown",
      "metadata": {
        "id": "EhVeZHawL2Tu",
        "colab_type": "text"
      },
      "source": [
        "Saving the model"
      ]
    },
    {
      "cell_type": "code",
      "metadata": {
        "id": "Zz2b_hamL5RL",
        "colab_type": "code",
        "colab": {
          "base_uri": "https://localhost:8080/",
          "height": 17
        },
        "outputId": "f77a1325-a1eb-40e4-d69d-0c5ded531acf"
      },
      "source": [
        "model.save('fashion_mnist.h5')\n",
        "\n",
        "# Saving to local machine\n",
        "from google.colab import files\n",
        "files.download(\"fashion_mnist.h5\")"
      ],
      "execution_count": 9,
      "outputs": [
        {
          "output_type": "display_data",
          "data": {
            "application/javascript": [
              "\n",
              "    async function download(id, filename, size) {\n",
              "      if (!google.colab.kernel.accessAllowed) {\n",
              "        return;\n",
              "      }\n",
              "      const div = document.createElement('div');\n",
              "      const label = document.createElement('label');\n",
              "      label.textContent = `Downloading \"${filename}\": `;\n",
              "      div.appendChild(label);\n",
              "      const progress = document.createElement('progress');\n",
              "      progress.max = size;\n",
              "      div.appendChild(progress);\n",
              "      document.body.appendChild(div);\n",
              "\n",
              "      const buffers = [];\n",
              "      let downloaded = 0;\n",
              "\n",
              "      const channel = await google.colab.kernel.comms.open(id);\n",
              "      // Send a message to notify the kernel that we're ready.\n",
              "      channel.send({})\n",
              "\n",
              "      for await (const message of channel.messages) {\n",
              "        // Send a message to notify the kernel that we're ready.\n",
              "        channel.send({})\n",
              "        if (message.buffers) {\n",
              "          for (const buffer of message.buffers) {\n",
              "            buffers.push(buffer);\n",
              "            downloaded += buffer.byteLength;\n",
              "            progress.value = downloaded;\n",
              "          }\n",
              "        }\n",
              "      }\n",
              "      const blob = new Blob(buffers, {type: 'application/binary'});\n",
              "      const a = document.createElement('a');\n",
              "      a.href = window.URL.createObjectURL(blob);\n",
              "      a.download = filename;\n",
              "      div.appendChild(a);\n",
              "      a.click();\n",
              "      div.remove();\n",
              "    }\n",
              "  "
            ],
            "text/plain": [
              "<IPython.core.display.Javascript object>"
            ]
          },
          "metadata": {
            "tags": []
          }
        },
        {
          "output_type": "display_data",
          "data": {
            "application/javascript": [
              "download(\"download_ee273398-4d3b-4698-a74d-07bef3e2c462\", \"fashion_mnist.h5\", 5389136)"
            ],
            "text/plain": [
              "<IPython.core.display.Javascript object>"
            ]
          },
          "metadata": {
            "tags": []
          }
        }
      ]
    },
    {
      "cell_type": "markdown",
      "metadata": {
        "id": "oLDBmuAfL-2U",
        "colab_type": "text"
      },
      "source": [
        "Predictions & Metrics"
      ]
    },
    {
      "cell_type": "code",
      "metadata": {
        "id": "-dFvzFEVL8Db",
        "colab_type": "code",
        "colab": {
          "base_uri": "https://localhost:8080/",
          "height": 85
        },
        "outputId": "cdd498e0-a44d-4474-f76e-75956039aa64"
      },
      "source": [
        "# Evaluating model on test data\n",
        "loss, accuracy = model.evaluate(X_test, y_test)\n",
        "print('\\nLoss: ', loss, \"\\nAccuracy: \", accuracy)"
      ],
      "execution_count": 10,
      "outputs": [
        {
          "output_type": "stream",
          "text": [
            "313/313 [==============================] - 15s 47ms/step - loss: 0.1997 - accuracy: 0.9289\n",
            "\n",
            "Loss:  0.1997087597846985 \n",
            "Accuracy:  0.9289000034332275\n"
          ],
          "name": "stdout"
        }
      ]
    },
    {
      "cell_type": "markdown",
      "metadata": {
        "id": "ct-XnjVMMDsC",
        "colab_type": "text"
      },
      "source": [
        "Plotting the diagnostics"
      ]
    },
    {
      "cell_type": "code",
      "metadata": {
        "id": "y99dzZg_MDNC",
        "colab_type": "code",
        "colab": {
          "base_uri": "https://localhost:8080/",
          "height": 441
        },
        "outputId": "cbc373f3-ff44-45fc-c09a-3f37d727c55d"
      },
      "source": [
        "# Plotting the diagnostic curve\n",
        "sb.set_style('darkgrid')\n",
        "plt.figure(figsize = (6, 6))\n",
        "\n",
        "plt.subplot(211)\n",
        "plt.title('Cross Entropy Loss')\n",
        "plt.plot(history.history['loss'], label = 'training data', color = '#303F9F')\n",
        "plt.plot(history.history['val_loss'], label = 'validation data', color = '#F39C12')\n",
        "plt.legend(shadow = True, loc = 'upper left')\n",
        "\n",
        "plt.subplot(212)\n",
        "plt.title('Classification Accuracy')\n",
        "plt.plot(history.history['accuracy'], label = 'training data', color = '#4DB6AC')\n",
        "plt.plot(history.history['val_accuracy'], label = 'validation data', color = '#EF9A9A')\n",
        "\n",
        "plt.tight_layout()\n",
        "plt.legend(shadow = True, loc = 'lower right')\n",
        "plt.savefig('training_diagnostics.png')\n",
        "\n",
        "plt.show()\n"
      ],
      "execution_count": 11,
      "outputs": [
        {
          "output_type": "display_data",
          "data": {
            "image/png": "[encoded data removed]",
            "text/plain": [
              "<Figure size 432x432 with 2 Axes>"
            ]
          },
          "metadata": {
            "tags": []
          }
        }
      ]
    }
  ]
}