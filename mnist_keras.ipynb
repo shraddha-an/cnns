{
  "nbformat": 4,
  "nbformat_minor": 0,
  "metadata": {
    "colab": {
      "name": "mnist_keras.ipynb",
      "provenance": [],
      "collapsed_sections": [],
      "authorship_tag": "ABX9TyOKnchnlY1xfcsgkNkV21BI",
      "include_colab_link": true
    },
    "kernelspec": {
      "name": "python3",
      "display_name": "Python 3"
    }
  },
  "cells": [
    {
      "cell_type": "markdown",
      "metadata": {
        "id": "view-in-github",
        "colab_type": "text"
      },
      "source": [
        "<a href=\"https://colab.research.google.com/github/shraddha-an/cnns/blob/master/mnist_keras.ipynb\" target=\"_parent\"><img src=\"https://colab.research.google.com/assets/colab-badge.svg\" alt=\"Open In Colab\"/></a>"
      ]
    },
    {
      "cell_type": "code",
      "metadata": {
        "colab": {
          "base_uri": "https://localhost:8080/"
        },
        "id": "tq0LUZcOmrpu",
        "outputId": "7249e284-7709-42eb-acbc-8598e5036e16"
      },
      "source": [
        "# CNN with keras for MNIST dataset\n",
        "# Improting the MNIST dataset\n",
        "from keras.datasets import mnist\n",
        "\n",
        "(X_train, y_train), (X_test, y_test) = mnist.load_data()\n",
        "\n",
        "X_train.shape, y_train.shape, X_test.shape, y_test.shape"
      ],
      "execution_count": 2,
      "outputs": [
        {
          "output_type": "stream",
          "text": [
            "Downloading data from https://storage.googleapis.com/tensorflow/tf-keras-datasets/mnist.npz\n",
            "11493376/11490434 [==============================] - 0s 0us/step\n"
          ],
          "name": "stdout"
        },
        {
          "output_type": "execute_result",
          "data": {
            "text/plain": [
              "((60000, 28, 28), (60000,), (10000, 28, 28), (10000,))"
            ]
          },
          "metadata": {
            "tags": []
          },
          "execution_count": 2
        }
      ]
    },
    {
      "cell_type": "code",
      "metadata": {
        "colab": {
          "base_uri": "https://localhost:8080/"
        },
        "id": "y9T9d5_7pX6-",
        "outputId": "813696f9-e691-4fbd-f2a8-ce6c97859530"
      },
      "source": [
        "X_train[0][0]"
      ],
      "execution_count": 4,
      "outputs": [
        {
          "output_type": "execute_result",
          "data": {
            "text/plain": [
              "array([0, 0, 0, 0, 0, 0, 0, 0, 0, 0, 0, 0, 0, 0, 0, 0, 0, 0, 0, 0, 0, 0,\n",
              "       0, 0, 0, 0, 0, 0], dtype=uint8)"
            ]
          },
          "metadata": {
            "tags": []
          },
          "execution_count": 4
        }
      ]
    },
    {
      "cell_type": "code",
      "metadata": {
        "id": "gPlW6pB6o_Mm"
      },
      "source": [
        "# OHE the labels \n",
        "from keras.utils import to_categorical\n",
        "y_train = to_categorical(y_train)\n",
        "y_test = to_categorical(y_test)\n",
        "\n",
        "# Converting the pixel values in X to float and rescaling the values to between 0-1\n",
        "X_train = X_train.astype(float)/255\n",
        "X_test = X_test.astype(float)/255\n",
        "\n",
        "# Changing the shape of the X matrix from 3-D to 4-D as Keras expects: (batch_size, height, weight, channels)\n",
        "X_train = X_train.reshape(-1, 28, 28, 1)\n",
        "X_test = X_test.reshape(-1, 28, 28, 1)"
      ],
      "execution_count": 5,
      "outputs": []
    },
    {
      "cell_type": "code",
      "metadata": {
        "colab": {
          "base_uri": "https://localhost:8080/"
        },
        "id": "yo2z4y-brtz0",
        "outputId": "9b4b90ff-f43d-43bc-dafd-0143778668b0"
      },
      "source": [
        "# Building the CNN model\n",
        "from keras.models import Sequential\n",
        "from keras.layers import Conv2D, MaxPool2D, Flatten, Dropout, Dense\n",
        "\n",
        "model = Sequential()\n",
        "\n",
        "# 1st Conv2D layer: 32 kernels, kernel size = (3, 3), stride = (1, 1)\n",
        "model.add(Conv2D(filters = 32, kernel_size = (3, 3), activation = 'relu' ,strides = (1, 1), padding = 'same', input_shape = (28, 28, 1)))\n",
        "model.add(MaxPool2D(pool_size = (2, 2)))\n",
        "\n",
        "# 2nd Conv2D layer: 64 kernels, kernel size = (3, 3), stride = (1, 1)\n",
        "model.add(Conv2D(filters = 64, kernel_size = (3, 3), strides = (1, 1), padding = 'same', activation = 'relu'))\n",
        "model.add(MaxPool2D(pool_size = (2, 2)))\n",
        "\n",
        "# 1st Conv2D layer: 32 kernels, kernel size = (3, 3), stride = (1, 1)\n",
        "model.add(Conv2D(filters = 128, kernel_size = (3, 3), strides = (1, 1), padding = 'same', activation = 'relu'))\n",
        "model.add(MaxPool2D(pool_size = (2, 2)))\n",
        "\n",
        "# Flattening the 4D output tensor from conv layer (batchsize, height, width, channels) to 2D tensor\n",
        "model.add(Flatten())\n",
        "model.add(Dense(units = 32, activation = 'relu'))\n",
        "model.add(Dense(units = 10, activation = 'softmax'))\n",
        "\n",
        "# Compiling the model with optimizer, loss function & metrics\n",
        "model.compile(optimizer = 'adam', loss = 'categorical_crossentropy', metrics = ['accuracy'])\n",
        "\n",
        "# Training\n",
        "history = model.fit(X_train, y_train, epochs = 20, batch_size = 60, verbose = 1)"
      ],
      "execution_count": 6,
      "outputs": [
        {
          "output_type": "stream",
          "text": [
            "Epoch 1/20\n",
            "1000/1000 [==============================] - 94s 94ms/step - loss: 0.4622 - accuracy: 0.8511\n",
            "Epoch 2/20\n",
            "1000/1000 [==============================] - 93s 93ms/step - loss: 0.0526 - accuracy: 0.9839\n",
            "Epoch 3/20\n",
            "1000/1000 [==============================] - 95s 95ms/step - loss: 0.0310 - accuracy: 0.9902\n",
            "Epoch 4/20\n",
            "1000/1000 [==============================] - 96s 96ms/step - loss: 0.0245 - accuracy: 0.9922\n",
            "Epoch 5/20\n",
            "1000/1000 [==============================] - 95s 95ms/step - loss: 0.0183 - accuracy: 0.9940\n",
            "Epoch 6/20\n",
            "1000/1000 [==============================] - 94s 94ms/step - loss: 0.0148 - accuracy: 0.9955\n",
            "Epoch 7/20\n",
            "1000/1000 [==============================] - 93s 93ms/step - loss: 0.0132 - accuracy: 0.9953\n",
            "Epoch 8/20\n",
            "1000/1000 [==============================] - 93s 93ms/step - loss: 0.0107 - accuracy: 0.9965\n",
            "Epoch 9/20\n",
            "1000/1000 [==============================] - 93s 93ms/step - loss: 0.0102 - accuracy: 0.9961\n",
            "Epoch 10/20\n",
            "1000/1000 [==============================] - 94s 94ms/step - loss: 0.0067 - accuracy: 0.9975\n",
            "Epoch 11/20\n",
            "1000/1000 [==============================] - 93s 93ms/step - loss: 0.0068 - accuracy: 0.9976\n",
            "Epoch 12/20\n",
            "1000/1000 [==============================] - 93s 93ms/step - loss: 0.0062 - accuracy: 0.9978\n",
            "Epoch 13/20\n",
            "1000/1000 [==============================] - 93s 93ms/step - loss: 0.0059 - accuracy: 0.9981\n",
            "Epoch 14/20\n",
            "1000/1000 [==============================] - 93s 93ms/step - loss: 0.0047 - accuracy: 0.9980\n",
            "Epoch 15/20\n",
            "1000/1000 [==============================] - 93s 93ms/step - loss: 0.0028 - accuracy: 0.9992\n",
            "Epoch 16/20\n",
            "1000/1000 [==============================] - 93s 93ms/step - loss: 0.0059 - accuracy: 0.9979\n",
            "Epoch 17/20\n",
            "1000/1000 [==============================] - 92s 92ms/step - loss: 0.0029 - accuracy: 0.9991\n",
            "Epoch 18/20\n",
            "1000/1000 [==============================] - 93s 93ms/step - loss: 0.0067 - accuracy: 0.9976\n",
            "Epoch 19/20\n",
            "1000/1000 [==============================] - 93s 93ms/step - loss: 0.0044 - accuracy: 0.9985\n",
            "Epoch 20/20\n",
            "1000/1000 [==============================] - 93s 93ms/step - loss: 0.0030 - accuracy: 0.9990\n"
          ],
          "name": "stdout"
        }
      ]
    },
    {
      "cell_type": "code",
      "metadata": {
        "colab": {
          "base_uri": "https://localhost:8080/"
        },
        "id": "u4oacp7Xt7ss",
        "outputId": "3f9a96b0-05df-42af-a3dd-973b9b90106e"
      },
      "source": [
        "# Saving to colab storage\n",
        "model.save('keras_mnist.h5')\n",
        "\n",
        "# Evaluating model on test data\n",
        "loss, accuracy = model.evaluate(X_test, y_test)\n",
        "print('\\nLoss: ', loss, \"\\nAccuracy: \", accuracy)"
      ],
      "execution_count": 7,
      "outputs": [
        {
          "output_type": "stream",
          "text": [
            "313/313 [==============================] - 5s 16ms/step - loss: 0.0512 - accuracy: 0.9903\n",
            "\n",
            "Loss:  0.051180340349674225 \n",
            "Accuracy:  0.9902999997138977\n"
          ],
          "name": "stdout"
        }
      ]
    }
  ]
}